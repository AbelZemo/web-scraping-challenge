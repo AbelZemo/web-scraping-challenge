{
 "cells": [
  {
   "cell_type": "markdown",
   "metadata": {},
   "source": [
    "# Module 12 Challenge\n",
    "## Deliverable 1: Scrape Titles and Preview Text from Mars News"
   ]
  },
  {
   "cell_type": "code",
   "execution_count": 1,
   "metadata": {},
   "outputs": [],
   "source": [
    "# Import Splinter and BeautifulSoup\n",
    "from splinter import Browser\n",
    "from bs4 import BeautifulSoup as soup\n",
    "import json\n"
   ]
  },
  {
   "cell_type": "code",
   "execution_count": 2,
   "metadata": {
    "scrolled": true
   },
   "outputs": [
    {
     "ename": "DriverNotFoundError",
     "evalue": "Driver for chrome was not found.",
     "output_type": "error",
     "traceback": [
      "\u001b[1;31m---------------------------------------------------------------------------\u001b[0m",
      "\u001b[1;31mDriverNotFoundError\u001b[0m                       Traceback (most recent call last)",
      "\u001b[1;32me:\\Abel\\Abel Modules\\web-scraping-challenge\\part_1_mars_news.ipynb Cell 3\u001b[0m line \u001b[0;36m1\n\u001b[1;32m----> <a href='vscode-notebook-cell:/e%3A/Abel/Abel%20Modules/web-scraping-challenge/part_1_mars_news.ipynb#W2sZmlsZQ%3D%3D?line=0'>1</a>\u001b[0m browser \u001b[39m=\u001b[39m Browser(\u001b[39m\"\u001b[39m\u001b[39mchrome\u001b[39m\u001b[39m\"\u001b[39m)\n",
      "File \u001b[1;32mc:\\Users\\papa\\anaconda3\\Lib\\site-packages\\splinter\\browser.py:128\u001b[0m, in \u001b[0;36mBrowser\u001b[1;34m(driver_name, retry_count, config, *args, **kwargs)\u001b[0m\n\u001b[0;32m    125\u001b[0m     \u001b[39mraise\u001b[39;00m DriverNotFoundError(\u001b[39mf\u001b[39m\u001b[39m\"\u001b[39m\u001b[39m{\u001b[39;00mdriver_name\u001b[39m}\u001b[39;00m\u001b[39m is not a recognized driver.\u001b[39m\u001b[39m\"\u001b[39m)\n\u001b[0;32m    127\u001b[0m \u001b[39mif\u001b[39;00m driver \u001b[39mis\u001b[39;00m \u001b[39mNone\u001b[39;00m:\n\u001b[1;32m--> 128\u001b[0m     \u001b[39mraise\u001b[39;00m DriverNotFoundError(\u001b[39mf\u001b[39m\u001b[39m\"\u001b[39m\u001b[39mDriver for \u001b[39m\u001b[39m{\u001b[39;00mdriver_name\u001b[39m}\u001b[39;00m\u001b[39m was not found.\u001b[39m\u001b[39m\"\u001b[39m)\n\u001b[0;32m    130\u001b[0m \u001b[39mreturn\u001b[39;00m get_driver(driver, retry_count\u001b[39m=\u001b[39mretry_count, config\u001b[39m=\u001b[39mconfig, \u001b[39m*\u001b[39margs, \u001b[39m*\u001b[39m\u001b[39m*\u001b[39mkwargs)\n",
      "\u001b[1;31mDriverNotFoundError\u001b[0m: Driver for chrome was not found."
     ]
    }
   ],
   "source": [
    "\n",
    "\n",
    "browser = Browser(\"chrome\")"
   ]
  },
  {
   "cell_type": "markdown",
   "metadata": {},
   "source": [
    "### Step 1: Visit the Website\n",
    "\n",
    "1. Use automated browsing to visit the [Mars news site](https://static.bc-edx.com/data/web/mars_news/index.html). Inspect the page to identify which elements to scrape.\n",
    "\n",
    "      > **Hint** To identify which elements to scrape, you might want to inspect the page by using Chrome DevTools."
   ]
  },
  {
   "cell_type": "code",
   "execution_count": 4,
   "metadata": {},
   "outputs": [
    {
     "ename": "NameError",
     "evalue": "name 'browser' is not defined",
     "output_type": "error",
     "traceback": [
      "\u001b[1;31m---------------------------------------------------------------------------\u001b[0m",
      "\u001b[1;31mNameError\u001b[0m                                 Traceback (most recent call last)",
      "\u001b[1;32me:\\Abel\\Abel Modules\\web-scraping-challenge\\part_1_mars_news.ipynb Cell 5\u001b[0m line \u001b[0;36m3\n\u001b[0;32m      <a href='vscode-notebook-cell:/e%3A/Abel/Abel%20Modules/web-scraping-challenge/part_1_mars_news.ipynb#W4sZmlsZQ%3D%3D?line=0'>1</a>\u001b[0m \u001b[39m# Visit the Mars news site\u001b[39;00m\n\u001b[0;32m      <a href='vscode-notebook-cell:/e%3A/Abel/Abel%20Modules/web-scraping-challenge/part_1_mars_news.ipynb#W4sZmlsZQ%3D%3D?line=1'>2</a>\u001b[0m url \u001b[39m=\u001b[39m \u001b[39m'\u001b[39m\u001b[39mhttps://static.bc-edx.com/data/web/mars_news/index.html\u001b[39m\u001b[39m'\u001b[39m\n\u001b[1;32m----> <a href='vscode-notebook-cell:/e%3A/Abel/Abel%20Modules/web-scraping-challenge/part_1_mars_news.ipynb#W4sZmlsZQ%3D%3D?line=2'>3</a>\u001b[0m browser\u001b[39m.\u001b[39mvisit(url)\n",
      "\u001b[1;31mNameError\u001b[0m: name 'browser' is not defined"
     ]
    }
   ],
   "source": [
    "# Visit the Mars news site\n",
    "url = 'https://static.bc-edx.com/data/web/mars_news/index.html'\n",
    "browser.visit(url)"
   ]
  },
  {
   "cell_type": "markdown",
   "metadata": {},
   "source": [
    "### Step 2: Scrape the Website\n",
    "\n",
    "Create a Beautiful Soup object and use it to extract text elements from the website."
   ]
  },
  {
   "cell_type": "code",
   "execution_count": 5,
   "metadata": {},
   "outputs": [
    {
     "ename": "NameError",
     "evalue": "name 'browser' is not defined",
     "output_type": "error",
     "traceback": [
      "\u001b[1;31m---------------------------------------------------------------------------\u001b[0m",
      "\u001b[1;31mNameError\u001b[0m                                 Traceback (most recent call last)",
      "\u001b[1;32me:\\Abel\\Abel Modules\\web-scraping-challenge\\part_1_mars_news.ipynb Cell 7\u001b[0m line \u001b[0;36m2\n\u001b[0;32m      <a href='vscode-notebook-cell:/e%3A/Abel/Abel%20Modules/web-scraping-challenge/part_1_mars_news.ipynb#W6sZmlsZQ%3D%3D?line=0'>1</a>\u001b[0m \u001b[39m# Create a Beautiful Soup object\u001b[39;00m\n\u001b[1;32m----> <a href='vscode-notebook-cell:/e%3A/Abel/Abel%20Modules/web-scraping-challenge/part_1_mars_news.ipynb#W6sZmlsZQ%3D%3D?line=1'>2</a>\u001b[0m html \u001b[39m=\u001b[39m browser\u001b[39m.\u001b[39mhtml\n\u001b[0;32m      <a href='vscode-notebook-cell:/e%3A/Abel/Abel%20Modules/web-scraping-challenge/part_1_mars_news.ipynb#W6sZmlsZQ%3D%3D?line=2'>3</a>\u001b[0m mars_soup \u001b[39m=\u001b[39m soup(html, \u001b[39m\"\u001b[39m\u001b[39mhtml.parser\u001b[39m\u001b[39m\"\u001b[39m)\n\u001b[0;32m      <a href='vscode-notebook-cell:/e%3A/Abel/Abel%20Modules/web-scraping-challenge/part_1_mars_news.ipynb#W6sZmlsZQ%3D%3D?line=3'>4</a>\u001b[0m mars_soup\n",
      "\u001b[1;31mNameError\u001b[0m: name 'browser' is not defined"
     ]
    }
   ],
   "source": [
    "# Create a Beautiful Soup object\n",
    "html = browser.html\n",
    "mars_soup = soup(html, \"html.parser\")\n",
    "mars_soup"
   ]
  },
  {
   "cell_type": "code",
   "execution_count": 6,
   "metadata": {},
   "outputs": [
    {
     "ename": "NameError",
     "evalue": "name 'mars_soup' is not defined",
     "output_type": "error",
     "traceback": [
      "\u001b[1;31m---------------------------------------------------------------------------\u001b[0m",
      "\u001b[1;31mNameError\u001b[0m                                 Traceback (most recent call last)",
      "\u001b[1;32me:\\Abel\\Abel Modules\\web-scraping-challenge\\part_1_mars_news.ipynb Cell 8\u001b[0m line \u001b[0;36m2\n\u001b[0;32m      <a href='vscode-notebook-cell:/e%3A/Abel/Abel%20Modules/web-scraping-challenge/part_1_mars_news.ipynb#X10sZmlsZQ%3D%3D?line=0'>1</a>\u001b[0m \u001b[39m# Extract all the text elements\u001b[39;00m\n\u001b[1;32m----> <a href='vscode-notebook-cell:/e%3A/Abel/Abel%20Modules/web-scraping-challenge/part_1_mars_news.ipynb#X10sZmlsZQ%3D%3D?line=1'>2</a>\u001b[0m text_elements \u001b[39m=\u001b[39m mars_soup\u001b[39m.\u001b[39mfind_all(\u001b[39m\"\u001b[39m\u001b[39mdiv\u001b[39m\u001b[39m\"\u001b[39m, class_\u001b[39m=\u001b[39m\u001b[39m\"\u001b[39m\u001b[39mlist_text\u001b[39m\u001b[39m\"\u001b[39m)\n\u001b[0;32m      <a href='vscode-notebook-cell:/e%3A/Abel/Abel%20Modules/web-scraping-challenge/part_1_mars_news.ipynb#X10sZmlsZQ%3D%3D?line=2'>3</a>\u001b[0m text_elements\n",
      "\u001b[1;31mNameError\u001b[0m: name 'mars_soup' is not defined"
     ]
    }
   ],
   "source": [
    "# Extract all the text elements\n",
    "text_elements = mars_soup.find_all(\"div\", class_=\"list_text\")\n",
    "text_elements"
   ]
  },
  {
   "cell_type": "markdown",
   "metadata": {},
   "source": [
    "### Step 3: Store the Results\n",
    "\n",
    "Extract the titles and preview text of the news articles that you scraped. Store the scraping results in Python data structures as follows:\n",
    "\n",
    "* Store each title-and-preview pair in a Python dictionary. And, give each dictionary two keys: `title` and `preview`. An example is the following:\n",
    "\n",
    "  ```python\n",
    "  {'title': \"NASA's MAVEN Observes Martian Light Show Caused by Major Solar Storm\", \n",
    "   'preview': \"For the first time in its eight years orbiting Mars, NASA’s MAVEN mission witnessed two different types of ultraviolet aurorae simultaneously, the result of solar storms that began on Aug. 27.\"\n",
    "  }\n",
    "  ```\n",
    "\n",
    "* Store all the dictionaries in a Python list.\n",
    "\n",
    "* Print the list in your notebook."
   ]
  },
  {
   "cell_type": "code",
   "execution_count": 6,
   "metadata": {},
   "outputs": [],
   "source": [
    "# Create an empty list to store the dictionaries\n",
    "article_data = []"
   ]
  },
  {
   "cell_type": "code",
   "execution_count": 10,
   "metadata": {},
   "outputs": [
    {
     "ename": "NameError",
     "evalue": "name 'text_elements' is not defined",
     "output_type": "error",
     "traceback": [
      "\u001b[1;31m---------------------------------------------------------------------------\u001b[0m",
      "\u001b[1;31mNameError\u001b[0m                                 Traceback (most recent call last)",
      "\u001b[1;32me:\\Abel\\Abel Modules\\web-scraping-challenge\\part_1_mars_news.ipynb Cell 11\u001b[0m line \u001b[0;36m5\n\u001b[0;32m      <a href='vscode-notebook-cell:/e%3A/Abel/Abel%20Modules/web-scraping-challenge/part_1_mars_news.ipynb#X13sZmlsZQ%3D%3D?line=0'>1</a>\u001b[0m \u001b[39m# Loop through the text elements\u001b[39;00m\n\u001b[0;32m      <a href='vscode-notebook-cell:/e%3A/Abel/Abel%20Modules/web-scraping-challenge/part_1_mars_news.ipynb#X13sZmlsZQ%3D%3D?line=1'>2</a>\u001b[0m \u001b[39m# Extract the title and preview text from the elements\u001b[39;00m\n\u001b[0;32m      <a href='vscode-notebook-cell:/e%3A/Abel/Abel%20Modules/web-scraping-challenge/part_1_mars_news.ipynb#X13sZmlsZQ%3D%3D?line=2'>3</a>\u001b[0m \u001b[39m# Store each title and preview pair in a dictionary\u001b[39;00m\n\u001b[0;32m      <a href='vscode-notebook-cell:/e%3A/Abel/Abel%20Modules/web-scraping-challenge/part_1_mars_news.ipynb#X13sZmlsZQ%3D%3D?line=3'>4</a>\u001b[0m \u001b[39m# Add the dictionary to the list\u001b[39;00m\n\u001b[1;32m----> <a href='vscode-notebook-cell:/e%3A/Abel/Abel%20Modules/web-scraping-challenge/part_1_mars_news.ipynb#X13sZmlsZQ%3D%3D?line=4'>5</a>\u001b[0m \u001b[39mfor\u001b[39;00m element \u001b[39min\u001b[39;00m text_elements:\n\u001b[0;32m      <a href='vscode-notebook-cell:/e%3A/Abel/Abel%20Modules/web-scraping-challenge/part_1_mars_news.ipynb#X13sZmlsZQ%3D%3D?line=5'>6</a>\u001b[0m     pair_dict \u001b[39m=\u001b[39m {}\n\u001b[0;32m      <a href='vscode-notebook-cell:/e%3A/Abel/Abel%20Modules/web-scraping-challenge/part_1_mars_news.ipynb#X13sZmlsZQ%3D%3D?line=6'>7</a>\u001b[0m     pair_dict[\u001b[39m'\u001b[39m\u001b[39mtitle\u001b[39m\u001b[39m'\u001b[39m] \u001b[39m=\u001b[39m element\u001b[39m.\u001b[39mfind_all(\u001b[39m\"\u001b[39m\u001b[39mdiv\u001b[39m\u001b[39m\"\u001b[39m, class_\u001b[39m=\u001b[39m\u001b[39m\"\u001b[39m\u001b[39mcontent_title\u001b[39m\u001b[39m\"\u001b[39m)[\u001b[39m0\u001b[39m]\u001b[39m.\u001b[39mtext\n",
      "\u001b[1;31mNameError\u001b[0m: name 'text_elements' is not defined"
     ]
    }
   ],
   "source": [
    "# Loop through the text elements\n",
    "# Extract the title and preview text from the elements\n",
    "# Store each title and preview pair in a dictionary\n",
    "# Add the dictionary to the list\n",
    "for element in text_elements:\n",
    "    pair_dict = {}\n",
    "    pair_dict['title'] = element.find_all(\"div\", class_=\"content_title\")[0].text\n",
    "    pair_dict['preview'] = element.find_all(\"div\", class_=\"article_teaser_body\")[0].text\n",
    "    article_data.append(pair_dict)\n",
    "    \n",
    "pair_dict"
   ]
  },
  {
   "cell_type": "code",
   "execution_count": 11,
   "metadata": {},
   "outputs": [
    {
     "ename": "NameError",
     "evalue": "name 'article_data' is not defined",
     "output_type": "error",
     "traceback": [
      "\u001b[1;31m---------------------------------------------------------------------------\u001b[0m",
      "\u001b[1;31mNameError\u001b[0m                                 Traceback (most recent call last)",
      "\u001b[1;32me:\\Abel\\Abel Modules\\web-scraping-challenge\\part_1_mars_news.ipynb Cell 12\u001b[0m line \u001b[0;36m2\n\u001b[0;32m      <a href='vscode-notebook-cell:/e%3A/Abel/Abel%20Modules/web-scraping-challenge/part_1_mars_news.ipynb#X14sZmlsZQ%3D%3D?line=0'>1</a>\u001b[0m \u001b[39m# Print the list to confirm success\u001b[39;00m\n\u001b[1;32m----> <a href='vscode-notebook-cell:/e%3A/Abel/Abel%20Modules/web-scraping-challenge/part_1_mars_news.ipynb#X14sZmlsZQ%3D%3D?line=1'>2</a>\u001b[0m article_data\n",
      "\u001b[1;31mNameError\u001b[0m: name 'article_data' is not defined"
     ]
    }
   ],
   "source": [
    "# Print the list to confirm success\n",
    "article_data"
   ]
  },
  {
   "cell_type": "code",
   "execution_count": 12,
   "metadata": {},
   "outputs": [
    {
     "ename": "NameError",
     "evalue": "name 'article_data' is not defined",
     "output_type": "error",
     "traceback": [
      "\u001b[1;31m---------------------------------------------------------------------------\u001b[0m",
      "\u001b[1;31mNameError\u001b[0m                                 Traceback (most recent call last)",
      "\u001b[1;32me:\\Abel\\Abel Modules\\web-scraping-challenge\\part_1_mars_news.ipynb Cell 13\u001b[0m line \u001b[0;36m2\n\u001b[0;32m      <a href='vscode-notebook-cell:/e%3A/Abel/Abel%20Modules/web-scraping-challenge/part_1_mars_news.ipynb#X20sZmlsZQ%3D%3D?line=0'>1</a>\u001b[0m \u001b[39m#optional -- print the list to a JSON file\u001b[39;00m\n\u001b[1;32m----> <a href='vscode-notebook-cell:/e%3A/Abel/Abel%20Modules/web-scraping-challenge/part_1_mars_news.ipynb#X20sZmlsZQ%3D%3D?line=1'>2</a>\u001b[0m mars_json \u001b[39m=\u001b[39m json\u001b[39m.\u001b[39mdumps(article_data, indent \u001b[39m=\u001b[39m \u001b[39m4\u001b[39m)\n\u001b[0;32m      <a href='vscode-notebook-cell:/e%3A/Abel/Abel%20Modules/web-scraping-challenge/part_1_mars_news.ipynb#X20sZmlsZQ%3D%3D?line=2'>3</a>\u001b[0m \u001b[39mwith\u001b[39;00m \u001b[39mopen\u001b[39m(\u001b[39m\"\u001b[39m\u001b[39mmars.json\u001b[39m\u001b[39m\"\u001b[39m, \u001b[39m\"\u001b[39m\u001b[39mw\u001b[39m\u001b[39m\"\u001b[39m) \u001b[39mas\u001b[39;00m outfile:\n\u001b[0;32m      <a href='vscode-notebook-cell:/e%3A/Abel/Abel%20Modules/web-scraping-challenge/part_1_mars_news.ipynb#X20sZmlsZQ%3D%3D?line=3'>4</a>\u001b[0m     outfile\u001b[39m.\u001b[39mwrite(mars_json)\n",
      "\u001b[1;31mNameError\u001b[0m: name 'article_data' is not defined"
     ]
    }
   ],
   "source": [
    "#optional -- print the list to a JSON file\n",
    "mars_json = json.dumps(article_data, indent = 4)\n",
    "with open(\"mars.json\", \"w\") as outfile:\n",
    "    outfile.write(mars_json)"
   ]
  },
  {
   "cell_type": "code",
   "execution_count": 9,
   "metadata": {},
   "outputs": [],
   "source": [
    "browser.quit()"
   ]
  },
  {
   "cell_type": "code",
   "execution_count": null,
   "metadata": {},
   "outputs": [],
   "source": []
  }
 ],
 "metadata": {
  "kernelspec": {
   "display_name": "Python 3 (ipykernel)",
   "language": "python",
   "name": "python3"
  },
  "language_info": {
   "codemirror_mode": {
    "name": "ipython",
    "version": 3
   },
   "file_extension": ".py",
   "mimetype": "text/x-python",
   "name": "python",
   "nbconvert_exporter": "python",
   "pygments_lexer": "ipython3",
   "version": "3.11.5"
  },
  "vscode": {
   "interpreter": {
    "hash": "31f2aee4e71d21fbe5cf8b01ff0e069b9275f58929596ceb00d14d90e3e16cd6"
   }
  }
 },
 "nbformat": 4,
 "nbformat_minor": 4
}
